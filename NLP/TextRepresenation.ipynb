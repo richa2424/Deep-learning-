{
 "cells": [
  {
   "cell_type": "code",
   "execution_count": 4,
   "id": "c9209727",
   "metadata": {},
   "outputs": [],
   "source": [
    "# Text Representation Techniques\n"
   ]
  },
  {
   "cell_type": "code",
   "execution_count": 5,
   "id": "0f19d55b",
   "metadata": {},
   "outputs": [
    {
     "ename": "SyntaxError",
     "evalue": "invalid syntax (3054044221.py, line 11)",
     "output_type": "error",
     "traceback": [
      "  \u001b[36mCell\u001b[39m\u001b[36m \u001b[39m\u001b[32mIn[5]\u001b[39m\u001b[32m, line 11\u001b[39m\n\u001b[31m    \u001b[39m\u001b[31mline1       1       1        1      0       0\u001b[39m\n                ^\n\u001b[31mSyntaxError\u001b[39m\u001b[31m:\u001b[39m invalid syntax\n"
     ]
    }
   ],
   "source": [
    "# 1. Bag of Words(BOW)\n",
    "# hello my name is richa my hello name is richa\n",
    "# people watch aiyug\n",
    "# aiyug watch aiyug\n",
    "# people write comment\n",
    "# aiyug write comment\n",
    "\n",
    "# Common Words- people, aiyug, write, comment, watch\n",
    "\n",
    "        # people   watch   aiyug   write   comment\n",
    "line1       1       1        1      0       0   \n",
    "line2       0       1        1      0       0\n",
    "line3       1       0        0      1       1 \n",
    "line4       0       0        1      1       1\n"
   ]
  },
  {
   "cell_type": "code",
   "execution_count": null,
   "id": "7a8c616b",
   "metadata": {},
   "outputs": [],
   "source": [
    "# BOW implementation\n",
    "\n",
    "import pandas as pd\n",
    "import numpy as np\n",
    "\n"
   ]
  },
  {
   "cell_type": "code",
   "execution_count": null,
   "id": "57bf7101",
   "metadata": {},
   "outputs": [],
   "source": []
  },
  {
   "cell_type": "code",
   "execution_count": null,
   "id": "28793317",
   "metadata": {},
   "outputs": [],
   "source": [
    "text = {\"text\":[\"People watch Aiyug\",\"Aiyug watch Aiyug\",\"People write comment \",\"Aiyug write comment\"],\"Output\":[1,1,0,0] }\n",
    "data =pd.DataFrame(text)\n",
    "data"
   ]
  },
  {
   "cell_type": "code",
   "execution_count": null,
   "id": "af39335e",
   "metadata": {},
   "outputs": [],
   "source": [
    "# from sklearn.feature_extraction.text import "
   ]
  },
  {
   "cell_type": "code",
   "execution_count": null,
   "id": "c0d8866b",
   "metadata": {},
   "outputs": [],
   "source": [
    "import nltk\n",
    "\n",
    "nltk.download('punkt')"
   ]
  },
  {
   "cell_type": "code",
   "execution_count": null,
   "id": "7eef4120",
   "metadata": {},
   "outputs": [],
   "source": [
    "from nltk.corpus import stopwords\n",
    "from nltk.tokenize import word_tokenize\n",
    "import nltk\n",
    "\n",
    "nltk.download('punkt')\n",
    "nltk.download('stopwords')\n",
    "nltk.download(\"punkt_tab\")\n",
    "\n",
    "text = 'This is an example showing off stop word filtertion.'\n",
    "words = word_tokenize(text)\n",
    "\n",
    "filtered_text = [word for word in words if word.lower() not in stopwords.words('english')]\n",
    "print(filtered_text)\n"
   ]
  },
  {
   "cell_type": "code",
   "execution_count": null,
   "id": "84c4b6ae",
   "metadata": {},
   "outputs": [],
   "source": [
    "## n-gram  It convert text into number\n",
    "# typres of n-gram\n",
    "   # 1. Unigram  ---- 1-gram\n",
    "   # 2. Bigram ---- 2-gram\n",
    "   # 3. Trigram ---- 3-gram\n",
    "\n",
    "# 1. Unigram\n",
    "# single words\n",
    "# eg: I Love NLP >>>>>>>>>>>>>>>> ['I','Love', 'NLP']\n",
    "   \n",
    "# 2. Bigram\n",
    "# 2 word sequence\n",
    "# eg: I Love NLP >>>>>>>>>>>>>>>> ['I Love', 'Love NLP']\n",
    "\n",
    "# 2. Triigram\n",
    "# 3 word sequence\n",
    "# eg: I Love NLP >>>>>>>>>>>>>>>> ['I Love NLP']\n",
    "\n",
    "# 4. M grams - It take all words of a sentence "
   ]
  },
  {
   "cell_type": "code",
   "execution_count": null,
   "id": "54b2fa21",
   "metadata": {},
   "outputs": [],
   "source": [
    "from nltk.util import ngrams\n",
    "from nltk.tokenize import word_tokenize\n",
    "\n",
    "text = \" i love natural laguage processing\"\n",
    "tokens = word_tokenize(text)\n",
    "\n",
    "n = 2\n",
    "bigram = list(ngrams(tokens, n))\n",
    "print(bigram)"
   ]
  },
  {
   "cell_type": "code",
   "execution_count": null,
   "id": "08ca966f",
   "metadata": {},
   "outputs": [],
   "source": [
    "n = 3\n",
    "trigram = list(ngrams(tokens, n))\n",
    "print(trigram)"
   ]
  },
  {
   "cell_type": "code",
   "execution_count": null,
   "id": "7b5cc9ac",
   "metadata": {},
   "outputs": [],
   "source": [
    "n = 1\n",
    "unigram = list(ngrams(tokens, n))\n",
    "print(unigram)"
   ]
  },
  {
   "cell_type": "code",
   "execution_count": null,
   "id": "8aa9e662",
   "metadata": {},
   "outputs": [],
   "source": [
    "# TF_IDF -(Term Frequency - Inverse Document Frequency)\n",
    "\n",
    "\n",
    "# d1 - I love NLP\n",
    "# d2 - i love tfidf\n",
    "# d3 - i love Idf\n",
    "# d4 - I Love TF\n",
    "\n",
    "# | I | Love | NLP | TFIDF | IDF |"
   ]
  },
  {
   "cell_type": "code",
   "execution_count": null,
   "id": "2351701b",
   "metadata": {},
   "outputs": [
    {
     "name": "stdout",
     "output_type": "stream",
     "text": [
      "<Compressed Sparse Row sparse matrix of dtype 'float64'\n",
      "\twith 17 stored elements and shape (3, 16)>\n",
      "  Coords\tValues\n",
      "  (0, 8)\t0.5\n",
      "  (0, 10)\t0.5\n",
      "  (0, 6)\t0.5\n",
      "  (0, 12)\t0.5\n",
      "  (1, 0)\t0.4233944834119594\n",
      "  (1, 7)\t0.4233944834119594\n",
      "  (1, 5)\t0.3220024178194947\n",
      "  (1, 2)\t0.4233944834119594\n",
      "  (1, 1)\t0.4233944834119594\n",
      "  (1, 11)\t0.4233944834119594\n",
      "  (2, 5)\t0.29651988085384556\n",
      "  (2, 14)\t0.3898880096169543\n",
      "  (2, 3)\t0.3898880096169543\n",
      "  (2, 15)\t0.3898880096169543\n",
      "  (2, 4)\t0.3898880096169543\n",
      "  (2, 13)\t0.3898880096169543\n",
      "  (2, 9)\t0.3898880096169543\n"
     ]
    }
   ],
   "source": [
    "from sklearn.feature_extraction.text import TfidfVectorizer\n",
    "\n",
    "documents = [ \n",
    "    \"I Love Natural language processing\",\n",
    "    \" Deep Learning is great for NLP\",\n",
    "    \"TF-IDF is uesful in text mining\"\n",
    "]\n",
    "\n",
    "vectorizer = TfidfVectorizer()\n",
    "tfidf_matrix = vectorizer.fit_transform(documents)\n",
    "print(tfidf_matrix)"
   ]
  },
  {
   "cell_type": "code",
   "execution_count": null,
   "id": "f8fcc3ed",
   "metadata": {},
   "outputs": [
    {
     "name": "stdout",
     "output_type": "stream",
     "text": [
      "Document 1\n",
      " language :0.5000\n",
      " love :0.5000\n",
      " natural :0.5000\n",
      " processing :0.5000\n",
      "Document 2\n",
      " deep :0.4234\n",
      " for :0.4234\n",
      " great :0.4234\n",
      " is :0.3220\n",
      " learning :0.4234\n",
      " nlp :0.4234\n",
      "Document 3\n",
      " idf :0.3899\n",
      " in :0.3899\n",
      " is :0.2965\n",
      " mining :0.3899\n",
      " text :0.3899\n",
      " tf :0.3899\n",
      " uesful :0.3899\n"
     ]
    }
   ],
   "source": [
    "feature_names = vectorizer.get_feature_names_out()\n",
    "\n",
    "for doc_idx, doc in enumerate(tfidf_matrix.toarray()):\n",
    "    print( f\"Document {doc_idx+1}\" )\n",
    "    for word_idx, score in enumerate(doc):\n",
    "        if score> 0:\n",
    "            print(f\" {feature_names[word_idx]} :{score:.4f}\")"
   ]
  },
  {
   "cell_type": "code",
   "execution_count": null,
   "id": "b988243a",
   "metadata": {},
   "outputs": [],
   "source": [
    "## Word to Vec\n",
    "\n",
    "# word convert into vector/ number\n",
    "# made by google in 2013\n",
    "# easy\n",
    "\n",
    "# Hello my name is ankur\n",
    "# Hello, hi, how are you, my name is ankur\n",
    "\n",
    "# Assign values based on Features:\n",
    "\n",
    "#         King   Queen    Man    Woman    Monkey\n",
    "# Gender    1     1         1      1        1\n",
    "# power     1     0.7      0.2    0.2       0\n",
    "# weight    0.8   0.4      0.6     0.5      0.6\n",
    "# speak     1     1        1       1        0"
   ]
  },
  {
   "cell_type": "code",
   "execution_count": null,
   "id": "adff5eab",
   "metadata": {},
   "outputs": [
    {
     "name": "stdout",
     "output_type": "stream",
     "text": [
      "Requirement already satisfied: gensim in c:\\users\\dell\\appdata\\local\\programs\\python\\python311\\lib\\site-packages (4.3.3)\n",
      "Collecting numpy<2.0,>=1.18.5 (from gensim)\n",
      "  Using cached numpy-1.26.4-cp311-cp311-win_amd64.whl.metadata (61 kB)\n",
      "Requirement already satisfied: scipy<1.14.0,>=1.7.0 in c:\\users\\dell\\appdata\\local\\programs\\python\\python311\\lib\\site-packages (from gensim) (1.13.1)\n",
      "Requirement already satisfied: smart-open>=1.8.1 in c:\\users\\dell\\appdata\\local\\programs\\python\\python311\\lib\\site-packages (from gensim) (7.1.0)\n",
      "Requirement already satisfied: wrapt in c:\\users\\dell\\appdata\\local\\programs\\python\\python311\\lib\\site-packages (from smart-open>=1.8.1->gensim) (1.17.2)\n",
      "Using cached numpy-1.26.4-cp311-cp311-win_amd64.whl (15.8 MB)\n",
      "Installing collected packages: numpy\n",
      "  Attempting uninstall: numpy\n",
      "    Found existing installation: numpy 2.2.5\n",
      "    Uninstalling numpy-2.2.5:\n",
      "      Successfully uninstalled numpy-2.2.5\n",
      "Successfully installed numpy-1.26.4\n"
     ]
    },
    {
     "name": "stderr",
     "output_type": "stream",
     "text": [
      "ERROR: pip's dependency resolver does not currently take into account all the packages that are installed. This behaviour is the source of the following dependency conflicts.\n",
      "thinc 8.3.6 requires numpy<3.0.0,>=2.0.0, but you have numpy 1.26.4 which is incompatible.\n"
     ]
    }
   ],
   "source": [
    "!pip install gensim"
   ]
  },
  {
   "cell_type": "code",
   "execution_count": null,
   "id": "0e8143b8",
   "metadata": {},
   "outputs": [
    {
     "ename": "ValueError",
     "evalue": "numpy.dtype size changed, may indicate binary incompatibility. Expected 96 from C header, got 88 from PyObject",
     "output_type": "error",
     "traceback": [
      "\u001b[31m---------------------------------------------------------------------------\u001b[39m",
      "\u001b[31mValueError\u001b[39m                                Traceback (most recent call last)",
      "\u001b[36mCell\u001b[39m\u001b[36m \u001b[39m\u001b[32mIn[25]\u001b[39m\u001b[32m, line 1\u001b[39m\n\u001b[32m----> \u001b[39m\u001b[32m1\u001b[39m \u001b[38;5;28;01mfrom\u001b[39;00m\u001b[38;5;250m \u001b[39m\u001b[34;01mgensim\u001b[39;00m\u001b[34;01m.\u001b[39;00m\u001b[34;01mmodels\u001b[39;00m\u001b[38;5;250m \u001b[39m\u001b[38;5;28;01mimport\u001b[39;00m Word2Vec\n",
      "\u001b[36mFile \u001b[39m\u001b[32mc:\\Users\\Dell\\AppData\\Local\\Programs\\Python\\Python311\\Lib\\site-packages\\gensim\\__init__.py:11\u001b[39m\n\u001b[32m      7\u001b[39m __version__ = \u001b[33m'\u001b[39m\u001b[33m4.3.3\u001b[39m\u001b[33m'\u001b[39m\n\u001b[32m      9\u001b[39m \u001b[38;5;28;01mimport\u001b[39;00m\u001b[38;5;250m \u001b[39m\u001b[34;01mlogging\u001b[39;00m\n\u001b[32m---> \u001b[39m\u001b[32m11\u001b[39m \u001b[38;5;28;01mfrom\u001b[39;00m\u001b[38;5;250m \u001b[39m\u001b[34;01mgensim\u001b[39;00m\u001b[38;5;250m \u001b[39m\u001b[38;5;28;01mimport\u001b[39;00m parsing, corpora, matutils, interfaces, models, similarities, utils  \u001b[38;5;66;03m# noqa:F401\u001b[39;00m\n\u001b[32m     14\u001b[39m logger = logging.getLogger(\u001b[33m'\u001b[39m\u001b[33mgensim\u001b[39m\u001b[33m'\u001b[39m)\n\u001b[32m     15\u001b[39m \u001b[38;5;28;01mif\u001b[39;00m \u001b[38;5;129;01mnot\u001b[39;00m logger.handlers:  \u001b[38;5;66;03m# To ensure reload() doesn't add another one\u001b[39;00m\n",
      "\u001b[36mFile \u001b[39m\u001b[32mc:\\Users\\Dell\\AppData\\Local\\Programs\\Python\\Python311\\Lib\\site-packages\\gensim\\corpora\\__init__.py:6\u001b[39m\n\u001b[32m      1\u001b[39m \u001b[33;03m\"\"\"\u001b[39;00m\n\u001b[32m      2\u001b[39m \u001b[33;03mThis package contains implementations of various streaming corpus I/O format.\u001b[39;00m\n\u001b[32m      3\u001b[39m \u001b[33;03m\"\"\"\u001b[39;00m\n\u001b[32m      5\u001b[39m \u001b[38;5;66;03m# bring corpus classes directly into package namespace, to save some typing\u001b[39;00m\n\u001b[32m----> \u001b[39m\u001b[32m6\u001b[39m \u001b[38;5;28;01mfrom\u001b[39;00m\u001b[38;5;250m \u001b[39m\u001b[34;01m.\u001b[39;00m\u001b[34;01mindexedcorpus\u001b[39;00m\u001b[38;5;250m \u001b[39m\u001b[38;5;28;01mimport\u001b[39;00m IndexedCorpus  \u001b[38;5;66;03m# noqa:F401 must appear before the other classes\u001b[39;00m\n\u001b[32m      8\u001b[39m \u001b[38;5;28;01mfrom\u001b[39;00m\u001b[38;5;250m \u001b[39m\u001b[34;01m.\u001b[39;00m\u001b[34;01mmmcorpus\u001b[39;00m\u001b[38;5;250m \u001b[39m\u001b[38;5;28;01mimport\u001b[39;00m MmCorpus  \u001b[38;5;66;03m# noqa:F401\u001b[39;00m\n\u001b[32m      9\u001b[39m \u001b[38;5;28;01mfrom\u001b[39;00m\u001b[38;5;250m \u001b[39m\u001b[34;01m.\u001b[39;00m\u001b[34;01mbleicorpus\u001b[39;00m\u001b[38;5;250m \u001b[39m\u001b[38;5;28;01mimport\u001b[39;00m BleiCorpus  \u001b[38;5;66;03m# noqa:F401\u001b[39;00m\n",
      "\u001b[36mFile \u001b[39m\u001b[32mc:\\Users\\Dell\\AppData\\Local\\Programs\\Python\\Python311\\Lib\\site-packages\\gensim\\corpora\\indexedcorpus.py:14\u001b[39m\n\u001b[32m     10\u001b[39m \u001b[38;5;28;01mimport\u001b[39;00m\u001b[38;5;250m \u001b[39m\u001b[34;01mlogging\u001b[39;00m\n\u001b[32m     12\u001b[39m \u001b[38;5;28;01mimport\u001b[39;00m\u001b[38;5;250m \u001b[39m\u001b[34;01mnumpy\u001b[39;00m\n\u001b[32m---> \u001b[39m\u001b[32m14\u001b[39m \u001b[38;5;28;01mfrom\u001b[39;00m\u001b[38;5;250m \u001b[39m\u001b[34;01mgensim\u001b[39;00m\u001b[38;5;250m \u001b[39m\u001b[38;5;28;01mimport\u001b[39;00m interfaces, utils\n\u001b[32m     16\u001b[39m logger = logging.getLogger(\u001b[34m__name__\u001b[39m)\n\u001b[32m     19\u001b[39m \u001b[38;5;28;01mclass\u001b[39;00m\u001b[38;5;250m \u001b[39m\u001b[34;01mIndexedCorpus\u001b[39;00m(interfaces.CorpusABC):\n",
      "\u001b[36mFile \u001b[39m\u001b[32mc:\\Users\\Dell\\AppData\\Local\\Programs\\Python\\Python311\\Lib\\site-packages\\gensim\\interfaces.py:19\u001b[39m\n\u001b[32m      7\u001b[39m \u001b[33;03m\"\"\"Basic interfaces used across the whole Gensim package.\u001b[39;00m\n\u001b[32m      8\u001b[39m \n\u001b[32m      9\u001b[39m \u001b[33;03mThese interfaces are used for building corpora, model transformation and similarity queries.\u001b[39;00m\n\u001b[32m   (...)\u001b[39m\u001b[32m     14\u001b[39m \n\u001b[32m     15\u001b[39m \u001b[33;03m\"\"\"\u001b[39;00m\n\u001b[32m     17\u001b[39m \u001b[38;5;28;01mimport\u001b[39;00m\u001b[38;5;250m \u001b[39m\u001b[34;01mlogging\u001b[39;00m\n\u001b[32m---> \u001b[39m\u001b[32m19\u001b[39m \u001b[38;5;28;01mfrom\u001b[39;00m\u001b[38;5;250m \u001b[39m\u001b[34;01mgensim\u001b[39;00m\u001b[38;5;250m \u001b[39m\u001b[38;5;28;01mimport\u001b[39;00m utils, matutils\n\u001b[32m     22\u001b[39m logger = logging.getLogger(\u001b[34m__name__\u001b[39m)\n\u001b[32m     25\u001b[39m \u001b[38;5;28;01mclass\u001b[39;00m\u001b[38;5;250m \u001b[39m\u001b[34;01mCorpusABC\u001b[39;00m(utils.SaveLoad):\n",
      "\u001b[36mFile \u001b[39m\u001b[32mc:\\Users\\Dell\\AppData\\Local\\Programs\\Python\\Python311\\Lib\\site-packages\\gensim\\matutils.py:1034\u001b[39m\n\u001b[32m   1029\u001b[39m     \u001b[38;5;28;01mreturn\u001b[39;00m \u001b[32m1.\u001b[39m - \u001b[38;5;28mfloat\u001b[39m(\u001b[38;5;28mlen\u001b[39m(set1 & set2)) / \u001b[38;5;28mfloat\u001b[39m(union_cardinality)\n\u001b[32m   1032\u001b[39m \u001b[38;5;28;01mtry\u001b[39;00m:\n\u001b[32m   1033\u001b[39m     \u001b[38;5;66;03m# try to load fast, cythonized code if possible\u001b[39;00m\n\u001b[32m-> \u001b[39m\u001b[32m1034\u001b[39m     \u001b[38;5;28;01mfrom\u001b[39;00m\u001b[38;5;250m \u001b[39m\u001b[34;01mgensim\u001b[39;00m\u001b[34;01m.\u001b[39;00m\u001b[34;01m_matutils\u001b[39;00m\u001b[38;5;250m \u001b[39m\u001b[38;5;28;01mimport\u001b[39;00m logsumexp, mean_absolute_difference, dirichlet_expectation\n\u001b[32m   1036\u001b[39m \u001b[38;5;28;01mexcept\u001b[39;00m \u001b[38;5;167;01mImportError\u001b[39;00m:\n\u001b[32m   1037\u001b[39m     \u001b[38;5;28;01mdef\u001b[39;00m\u001b[38;5;250m \u001b[39m\u001b[34mlogsumexp\u001b[39m(x):\n",
      "\u001b[36mFile \u001b[39m\u001b[32mc:\\Users\\Dell\\AppData\\Local\\Programs\\Python\\Python311\\Lib\\site-packages\\gensim\\_matutils.pyx:1\u001b[39m, in \u001b[36minit gensim._matutils\u001b[39m\u001b[34m()\u001b[39m\n",
      "\u001b[31mValueError\u001b[39m: numpy.dtype size changed, may indicate binary incompatibility. Expected 96 from C header, got 88 from PyObject"
     ]
    }
   ],
   "source": [
    "from gensim.models import Word2Vec"
   ]
  },
  {
   "cell_type": "code",
   "execution_count": null,
   "id": "91f9e118",
   "metadata": {},
   "outputs": [
    {
     "ename": "ValueError",
     "evalue": "numpy.dtype size changed, may indicate binary incompatibility. Expected 96 from C header, got 88 from PyObject",
     "output_type": "error",
     "traceback": [
      "\u001b[31m---------------------------------------------------------------------------\u001b[39m",
      "\u001b[31mValueError\u001b[39m                                Traceback (most recent call last)",
      "\u001b[36mCell\u001b[39m\u001b[36m \u001b[39m\u001b[32mIn[26]\u001b[39m\u001b[32m, line 1\u001b[39m\n\u001b[32m----> \u001b[39m\u001b[32m1\u001b[39m \u001b[38;5;28;01mfrom\u001b[39;00m\u001b[38;5;250m \u001b[39m\u001b[34;01mgensim\u001b[39;00m\u001b[34;01m.\u001b[39;00m\u001b[34;01mmodels\u001b[39;00m\u001b[38;5;250m \u001b[39m\u001b[38;5;28;01mimport\u001b[39;00m Word2Vec\n\u001b[32m      3\u001b[39m sentences = [\n\u001b[32m      4\u001b[39m     [\u001b[33m'\u001b[39m\u001b[33mi\u001b[39m\u001b[33m'\u001b[39m, \u001b[33m'\u001b[39m\u001b[33mlove\u001b[39m\u001b[33m'\u001b[39m, \u001b[33m'\u001b[39m\u001b[33mdeep\u001b[39m\u001b[33m'\u001b[39m,\u001b[33m'\u001b[39m\u001b[33mlearning\u001b[39m\u001b[33m'\u001b[39m],\n\u001b[32m      5\u001b[39m     [\u001b[33m'\u001b[39m\u001b[33mword2vec\u001b[39m\u001b[33m'\u001b[39m, \u001b[33m'\u001b[39m\u001b[33mis\u001b[39m\u001b[33m'\u001b[39m, \u001b[33m'\u001b[39m\u001b[33ma\u001b[39m\u001b[33m'\u001b[39m,\u001b[33m'\u001b[39m\u001b[33mcool\u001b[39m\u001b[33m'\u001b[39m,\u001b[33m'\u001b[39m\u001b[33mnlp\u001b[39m\u001b[33m'\u001b[39m,\u001b[33m'\u001b[39m\u001b[33mtechnique\u001b[39m\u001b[33m'\u001b[39m],\n\u001b[32m      6\u001b[39m     [\u001b[33m'\u001b[39m\u001b[33mword2vec\u001b[39m\u001b[33m'\u001b[39m, \u001b[33m'\u001b[39m\u001b[33mis\u001b[39m\u001b[33m'\u001b[39m, \u001b[33m'\u001b[39m\u001b[33ma\u001b[39m\u001b[33m'\u001b[39m,\u001b[33m'\u001b[39m\u001b[33mcool\u001b[39m\u001b[33m'\u001b[39m,\u001b[33m'\u001b[39m\u001b[33mnlp\u001b[39m\u001b[33m'\u001b[39m,\u001b[33m'\u001b[39m\u001b[33mtechnique\u001b[39m\u001b[33m'\u001b[39m]\n\u001b[32m      7\u001b[39m ]\n\u001b[32m      9\u001b[39m model = Word2Vec(sentences, vector_size = \u001b[32m100\u001b[39m, window = \u001b[32m5\u001b[39m, min_count = \u001b[32m1\u001b[39m, workers = \u001b[32m4\u001b[39m)\n",
      "\u001b[36mFile \u001b[39m\u001b[32mc:\\Users\\Dell\\AppData\\Local\\Programs\\Python\\Python311\\Lib\\site-packages\\gensim\\__init__.py:11\u001b[39m\n\u001b[32m      7\u001b[39m __version__ = \u001b[33m'\u001b[39m\u001b[33m4.3.3\u001b[39m\u001b[33m'\u001b[39m\n\u001b[32m      9\u001b[39m \u001b[38;5;28;01mimport\u001b[39;00m\u001b[38;5;250m \u001b[39m\u001b[34;01mlogging\u001b[39;00m\n\u001b[32m---> \u001b[39m\u001b[32m11\u001b[39m \u001b[38;5;28;01mfrom\u001b[39;00m\u001b[38;5;250m \u001b[39m\u001b[34;01mgensim\u001b[39;00m\u001b[38;5;250m \u001b[39m\u001b[38;5;28;01mimport\u001b[39;00m parsing, corpora, matutils, interfaces, models, similarities, utils  \u001b[38;5;66;03m# noqa:F401\u001b[39;00m\n\u001b[32m     14\u001b[39m logger = logging.getLogger(\u001b[33m'\u001b[39m\u001b[33mgensim\u001b[39m\u001b[33m'\u001b[39m)\n\u001b[32m     15\u001b[39m \u001b[38;5;28;01mif\u001b[39;00m \u001b[38;5;129;01mnot\u001b[39;00m logger.handlers:  \u001b[38;5;66;03m# To ensure reload() doesn't add another one\u001b[39;00m\n",
      "\u001b[36mFile \u001b[39m\u001b[32mc:\\Users\\Dell\\AppData\\Local\\Programs\\Python\\Python311\\Lib\\site-packages\\gensim\\corpora\\__init__.py:6\u001b[39m\n\u001b[32m      1\u001b[39m \u001b[33;03m\"\"\"\u001b[39;00m\n\u001b[32m      2\u001b[39m \u001b[33;03mThis package contains implementations of various streaming corpus I/O format.\u001b[39;00m\n\u001b[32m      3\u001b[39m \u001b[33;03m\"\"\"\u001b[39;00m\n\u001b[32m      5\u001b[39m \u001b[38;5;66;03m# bring corpus classes directly into package namespace, to save some typing\u001b[39;00m\n\u001b[32m----> \u001b[39m\u001b[32m6\u001b[39m \u001b[38;5;28;01mfrom\u001b[39;00m\u001b[38;5;250m \u001b[39m\u001b[34;01m.\u001b[39;00m\u001b[34;01mindexedcorpus\u001b[39;00m\u001b[38;5;250m \u001b[39m\u001b[38;5;28;01mimport\u001b[39;00m IndexedCorpus  \u001b[38;5;66;03m# noqa:F401 must appear before the other classes\u001b[39;00m\n\u001b[32m      8\u001b[39m \u001b[38;5;28;01mfrom\u001b[39;00m\u001b[38;5;250m \u001b[39m\u001b[34;01m.\u001b[39;00m\u001b[34;01mmmcorpus\u001b[39;00m\u001b[38;5;250m \u001b[39m\u001b[38;5;28;01mimport\u001b[39;00m MmCorpus  \u001b[38;5;66;03m# noqa:F401\u001b[39;00m\n\u001b[32m      9\u001b[39m \u001b[38;5;28;01mfrom\u001b[39;00m\u001b[38;5;250m \u001b[39m\u001b[34;01m.\u001b[39;00m\u001b[34;01mbleicorpus\u001b[39;00m\u001b[38;5;250m \u001b[39m\u001b[38;5;28;01mimport\u001b[39;00m BleiCorpus  \u001b[38;5;66;03m# noqa:F401\u001b[39;00m\n",
      "\u001b[36mFile \u001b[39m\u001b[32mc:\\Users\\Dell\\AppData\\Local\\Programs\\Python\\Python311\\Lib\\site-packages\\gensim\\corpora\\indexedcorpus.py:14\u001b[39m\n\u001b[32m     10\u001b[39m \u001b[38;5;28;01mimport\u001b[39;00m\u001b[38;5;250m \u001b[39m\u001b[34;01mlogging\u001b[39;00m\n\u001b[32m     12\u001b[39m \u001b[38;5;28;01mimport\u001b[39;00m\u001b[38;5;250m \u001b[39m\u001b[34;01mnumpy\u001b[39;00m\n\u001b[32m---> \u001b[39m\u001b[32m14\u001b[39m \u001b[38;5;28;01mfrom\u001b[39;00m\u001b[38;5;250m \u001b[39m\u001b[34;01mgensim\u001b[39;00m\u001b[38;5;250m \u001b[39m\u001b[38;5;28;01mimport\u001b[39;00m interfaces, utils\n\u001b[32m     16\u001b[39m logger = logging.getLogger(\u001b[34m__name__\u001b[39m)\n\u001b[32m     19\u001b[39m \u001b[38;5;28;01mclass\u001b[39;00m\u001b[38;5;250m \u001b[39m\u001b[34;01mIndexedCorpus\u001b[39;00m(interfaces.CorpusABC):\n",
      "\u001b[36mFile \u001b[39m\u001b[32mc:\\Users\\Dell\\AppData\\Local\\Programs\\Python\\Python311\\Lib\\site-packages\\gensim\\interfaces.py:19\u001b[39m\n\u001b[32m      7\u001b[39m \u001b[33;03m\"\"\"Basic interfaces used across the whole Gensim package.\u001b[39;00m\n\u001b[32m      8\u001b[39m \n\u001b[32m      9\u001b[39m \u001b[33;03mThese interfaces are used for building corpora, model transformation and similarity queries.\u001b[39;00m\n\u001b[32m   (...)\u001b[39m\u001b[32m     14\u001b[39m \n\u001b[32m     15\u001b[39m \u001b[33;03m\"\"\"\u001b[39;00m\n\u001b[32m     17\u001b[39m \u001b[38;5;28;01mimport\u001b[39;00m\u001b[38;5;250m \u001b[39m\u001b[34;01mlogging\u001b[39;00m\n\u001b[32m---> \u001b[39m\u001b[32m19\u001b[39m \u001b[38;5;28;01mfrom\u001b[39;00m\u001b[38;5;250m \u001b[39m\u001b[34;01mgensim\u001b[39;00m\u001b[38;5;250m \u001b[39m\u001b[38;5;28;01mimport\u001b[39;00m utils, matutils\n\u001b[32m     22\u001b[39m logger = logging.getLogger(\u001b[34m__name__\u001b[39m)\n\u001b[32m     25\u001b[39m \u001b[38;5;28;01mclass\u001b[39;00m\u001b[38;5;250m \u001b[39m\u001b[34;01mCorpusABC\u001b[39;00m(utils.SaveLoad):\n",
      "\u001b[36mFile \u001b[39m\u001b[32mc:\\Users\\Dell\\AppData\\Local\\Programs\\Python\\Python311\\Lib\\site-packages\\gensim\\matutils.py:1034\u001b[39m\n\u001b[32m   1029\u001b[39m     \u001b[38;5;28;01mreturn\u001b[39;00m \u001b[32m1.\u001b[39m - \u001b[38;5;28mfloat\u001b[39m(\u001b[38;5;28mlen\u001b[39m(set1 & set2)) / \u001b[38;5;28mfloat\u001b[39m(union_cardinality)\n\u001b[32m   1032\u001b[39m \u001b[38;5;28;01mtry\u001b[39;00m:\n\u001b[32m   1033\u001b[39m     \u001b[38;5;66;03m# try to load fast, cythonized code if possible\u001b[39;00m\n\u001b[32m-> \u001b[39m\u001b[32m1034\u001b[39m     \u001b[38;5;28;01mfrom\u001b[39;00m\u001b[38;5;250m \u001b[39m\u001b[34;01mgensim\u001b[39;00m\u001b[34;01m.\u001b[39;00m\u001b[34;01m_matutils\u001b[39;00m\u001b[38;5;250m \u001b[39m\u001b[38;5;28;01mimport\u001b[39;00m logsumexp, mean_absolute_difference, dirichlet_expectation\n\u001b[32m   1036\u001b[39m \u001b[38;5;28;01mexcept\u001b[39;00m \u001b[38;5;167;01mImportError\u001b[39;00m:\n\u001b[32m   1037\u001b[39m     \u001b[38;5;28;01mdef\u001b[39;00m\u001b[38;5;250m \u001b[39m\u001b[34mlogsumexp\u001b[39m(x):\n",
      "\u001b[36mFile \u001b[39m\u001b[32mc:\\Users\\Dell\\AppData\\Local\\Programs\\Python\\Python311\\Lib\\site-packages\\gensim\\_matutils.pyx:1\u001b[39m, in \u001b[36minit gensim._matutils\u001b[39m\u001b[34m()\u001b[39m\n",
      "\u001b[31mValueError\u001b[39m: numpy.dtype size changed, may indicate binary incompatibility. Expected 96 from C header, got 88 from PyObject"
     ]
    }
   ],
   "source": [
    "from gensim.models import Word2Vec\n",
    "\n",
    "sentences = [\n",
    "    ['i', 'love', 'deep','learning'],\n",
    "    ['word2vec', 'is', 'a','cool','nlp','technique'],\n",
    "    ['word2vec', 'is', 'a','cool','nlp','technique']\n",
    "]\n",
    "\n",
    "model = Word2Vec(sentences, vector_size = 100, window = 5, min_count = 1, workers = 4)\n",
    "\n",
    "vector = model.wv['nlp']\n",
    "\n",
    "print(model.wv.most_similar(\"nlp\"))"
   ]
  },
  {
   "cell_type": "code",
   "execution_count": 6,
   "id": "e90289cd",
   "metadata": {},
   "outputs": [],
   "source": [
    "import spacy"
   ]
  },
  {
   "cell_type": "code",
   "execution_count": 7,
   "id": "1ee3b6cf",
   "metadata": {},
   "outputs": [
    {
     "name": "stdout",
     "output_type": "stream",
     "text": [
      "Collecting en-core-web-sm==3.8.0\n",
      "  Downloading https://github.com/explosion/spacy-models/releases/download/en_core_web_sm-3.8.0/en_core_web_sm-3.8.0-py3-none-any.whl (12.8 MB)\n",
      "     ---------------------------------------- 0.0/12.8 MB ? eta -:--:--\n",
      "     - -------------------------------------- 0.5/12.8 MB 4.2 MB/s eta 0:00:03\n",
      "     -- ------------------------------------- 0.8/12.8 MB 2.8 MB/s eta 0:00:05\n",
      "     --- ------------------------------------ 1.0/12.8 MB 1.8 MB/s eta 0:00:07\n",
      "     ---- ----------------------------------- 1.3/12.8 MB 1.7 MB/s eta 0:00:07\n",
      "     ---- ----------------------------------- 1.6/12.8 MB 1.3 MB/s eta 0:00:09\n",
      "     ---- ----------------------------------- 1.6/12.8 MB 1.3 MB/s eta 0:00:09\n",
      "     ----- ---------------------------------- 1.8/12.8 MB 1.2 MB/s eta 0:00:10\n",
      "     ------ --------------------------------- 2.1/12.8 MB 1.2 MB/s eta 0:00:09\n",
      "     ------- -------------------------------- 2.4/12.8 MB 1.1 MB/s eta 0:00:10\n",
      "     ------- -------------------------------- 2.4/12.8 MB 1.1 MB/s eta 0:00:10\n",
      "     -------- ------------------------------- 2.6/12.8 MB 1.1 MB/s eta 0:00:10\n",
      "     --------- ------------------------------ 2.9/12.8 MB 1.1 MB/s eta 0:00:09\n",
      "     --------- ------------------------------ 3.1/12.8 MB 1.1 MB/s eta 0:00:09\n",
      "     ---------- ----------------------------- 3.4/12.8 MB 1.1 MB/s eta 0:00:09\n",
      "     ----------- ---------------------------- 3.7/12.8 MB 1.1 MB/s eta 0:00:09\n",
      "     ------------ --------------------------- 3.9/12.8 MB 1.1 MB/s eta 0:00:08\n",
      "     ------------- -------------------------- 4.2/12.8 MB 1.1 MB/s eta 0:00:08\n",
      "     ------------- -------------------------- 4.5/12.8 MB 1.1 MB/s eta 0:00:08\n",
      "     -------------- ------------------------- 4.7/12.8 MB 1.1 MB/s eta 0:00:08\n",
      "     -------------- ------------------------- 4.7/12.8 MB 1.1 MB/s eta 0:00:08\n",
      "     --------------- ------------------------ 5.0/12.8 MB 1.1 MB/s eta 0:00:08\n",
      "     --------------- ------------------------ 5.0/12.8 MB 1.1 MB/s eta 0:00:08\n",
      "     ---------------- ----------------------- 5.2/12.8 MB 1.1 MB/s eta 0:00:08\n",
      "     ----------------- ---------------------- 5.5/12.8 MB 1.1 MB/s eta 0:00:07\n",
      "     ------------------ --------------------- 5.8/12.8 MB 1.0 MB/s eta 0:00:07\n",
      "     ------------------ --------------------- 6.0/12.8 MB 1.0 MB/s eta 0:00:07\n",
      "     ------------------ --------------------- 6.0/12.8 MB 1.0 MB/s eta 0:00:07\n",
      "     ------------------- -------------------- 6.3/12.8 MB 1.0 MB/s eta 0:00:07\n",
      "     --------------------- ------------------ 6.8/12.8 MB 1.0 MB/s eta 0:00:06\n",
      "     ---------------------- ----------------- 7.1/12.8 MB 1.0 MB/s eta 0:00:06\n",
      "     ---------------------- ----------------- 7.1/12.8 MB 1.0 MB/s eta 0:00:06\n",
      "     ---------------------- ----------------- 7.3/12.8 MB 1.0 MB/s eta 0:00:06\n",
      "     ----------------------- ---------------- 7.6/12.8 MB 1.0 MB/s eta 0:00:06\n",
      "     ----------------------- ---------------- 7.6/12.8 MB 1.0 MB/s eta 0:00:06\n",
      "     ------------------------ --------------- 7.9/12.8 MB 1.0 MB/s eta 0:00:05\n",
      "     ------------------------- -------------- 8.1/12.8 MB 1.0 MB/s eta 0:00:05\n",
      "     --------------------------- ------------ 8.7/12.8 MB 1.0 MB/s eta 0:00:05\n",
      "     --------------------------- ------------ 8.7/12.8 MB 1.0 MB/s eta 0:00:05\n",
      "     --------------------------- ------------ 8.9/12.8 MB 1.0 MB/s eta 0:00:04\n",
      "     --------------------------- ------------ 8.9/12.8 MB 1.0 MB/s eta 0:00:04\n",
      "     ---------------------------- ----------- 9.2/12.8 MB 1.0 MB/s eta 0:00:04\n",
      "     ----------------------------- ---------- 9.4/12.8 MB 1.0 MB/s eta 0:00:04\n",
      "     ------------------------------ --------- 9.7/12.8 MB 1.0 MB/s eta 0:00:04\n",
      "     ------------------------------- -------- 10.0/12.8 MB 1.0 MB/s eta 0:00:03\n",
      "     ------------------------------- -------- 10.2/12.8 MB 1.0 MB/s eta 0:00:03\n",
      "     -------------------------------- ------- 10.5/12.8 MB 1.0 MB/s eta 0:00:03\n",
      "     --------------------------------- ------ 10.7/12.8 MB 1.0 MB/s eta 0:00:02\n",
      "     --------------------------------- ------ 10.7/12.8 MB 1.0 MB/s eta 0:00:02\n",
      "     ---------------------------------- ----- 11.0/12.8 MB 1.0 MB/s eta 0:00:02\n",
      "     ------------------------------------ --- 11.5/12.8 MB 1.0 MB/s eta 0:00:02\n",
      "     ------------------------------------ --- 11.8/12.8 MB 1.0 MB/s eta 0:00:01\n",
      "     ------------------------------------- -- 12.1/12.8 MB 1.0 MB/s eta 0:00:01\n",
      "     -------------------------------------- - 12.3/12.8 MB 1.0 MB/s eta 0:00:01\n",
      "     ---------------------------------------  12.6/12.8 MB 1.1 MB/s eta 0:00:01\n",
      "     ---------------------------------------  12.6/12.8 MB 1.1 MB/s eta 0:00:01\n",
      "     ---------------------------------------  12.6/12.8 MB 1.1 MB/s eta 0:00:01\n",
      "     ---------------------------------------- 12.8/12.8 MB 1.0 MB/s eta 0:00:00\n",
      "\u001b[38;5;2m✔ Download and installation successful\u001b[0m\n",
      "You can now load the package via spacy.load('en_core_web_sm')\n"
     ]
    }
   ],
   "source": [
    "!python -m spacy download en_core_web_sm"
   ]
  },
  {
   "cell_type": "code",
   "execution_count": 32,
   "id": "03d70174",
   "metadata": {},
   "outputs": [],
   "source": [
    "nlp = spacy.load('en_core_web_sm')"
   ]
  },
  {
   "cell_type": "code",
   "execution_count": 33,
   "id": "30e9f09a",
   "metadata": {},
   "outputs": [],
   "source": [
    "doc = nlp(u'I will google about facebook')"
   ]
  },
  {
   "cell_type": "code",
   "execution_count": 34,
   "id": "8d69e96b",
   "metadata": {},
   "outputs": [
    {
     "data": {
      "text/plain": [
       "I"
      ]
     },
     "execution_count": 34,
     "metadata": {},
     "output_type": "execute_result"
    }
   ],
   "source": [
    "doc[0]"
   ]
  },
  {
   "cell_type": "code",
   "execution_count": 36,
   "id": "4b42bcfb",
   "metadata": {},
   "outputs": [
    {
     "data": {
      "text/plain": [
       "'I will google about facebook'"
      ]
     },
     "execution_count": 36,
     "metadata": {},
     "output_type": "execute_result"
    }
   ],
   "source": [
    "import numpy as np\n",
    "doc.text\n"
   ]
  },
  {
   "cell_type": "code",
   "execution_count": 37,
   "id": "e42d6272",
   "metadata": {},
   "outputs": [
    {
     "data": {
      "text/plain": [
       "'PRON'"
      ]
     },
     "execution_count": 37,
     "metadata": {},
     "output_type": "execute_result"
    }
   ],
   "source": [
    "doc[0].pos_"
   ]
  },
  {
   "cell_type": "code",
   "execution_count": 38,
   "id": "a18e4895",
   "metadata": {},
   "outputs": [
    {
     "data": {
      "text/plain": [
       "'PRP'"
      ]
     },
     "execution_count": 38,
     "metadata": {},
     "output_type": "execute_result"
    }
   ],
   "source": [
    "doc[0].tag_"
   ]
  },
  {
   "cell_type": "code",
   "execution_count": 39,
   "id": "c7e4661b",
   "metadata": {},
   "outputs": [
    {
     "name": "stdout",
     "output_type": "stream",
     "text": [
      "I -----------> PRON PRP pronoun, personal\n",
      "will -----------> AUX MD verb, modal auxiliary\n",
      "google -----------> VERB VB verb, base form\n",
      "about -----------> ADP IN conjunction, subordinating or preposition\n",
      "facebook -----------> PROPN NNP noun, proper singular\n"
     ]
    }
   ],
   "source": [
    "for x in doc:\n",
    "    print(x.text, \"----------->\",x.pos_, x.tag_, spacy.explain(x.tag_))"
   ]
  },
  {
   "cell_type": "code",
   "execution_count": 40,
   "id": "cbe60ff2",
   "metadata": {},
   "outputs": [
    {
     "name": "stdout",
     "output_type": "stream",
     "text": [
      "i -----------> PRON PRP pronoun, personal\n",
      "read -----------> VERB VBP verb, non-3rd person singular present\n",
      "book -----------> NOUN NN noun, singular or mass\n",
      "on -----------> ADP IN conjunction, subordinating or preposition\n",
      "history -----------> NOUN NN noun, singular or mass\n"
     ]
    }
   ],
   "source": [
    "doc2 = nlp(u\"i read book on history\")\n",
    "\n",
    "for x in doc2:\n",
    "    print(x.text, \"----------->\",x.pos_, x.tag_, spacy.explain(x.tag_))"
   ]
  },
  {
   "cell_type": "code",
   "execution_count": 43,
   "id": "1137b6ad",
   "metadata": {},
   "outputs": [],
   "source": [
    "from spacy import displacy"
   ]
  },
  {
   "cell_type": "code",
   "execution_count": 56,
   "id": "29082956",
   "metadata": {},
   "outputs": [
    {
     "name": "stdout",
     "output_type": "stream",
     "text": [
      "Requirement already satisfied: spacy in c:\\users\\dell\\appdata\\local\\programs\\python\\python311\\lib\\site-packages (3.8.5)\n",
      "Requirement already satisfied: spacy-legacy<3.1.0,>=3.0.11 in c:\\users\\dell\\appdata\\local\\programs\\python\\python311\\lib\\site-packages (from spacy) (3.0.12)\n",
      "Requirement already satisfied: spacy-loggers<2.0.0,>=1.0.0 in c:\\users\\dell\\appdata\\local\\programs\\python\\python311\\lib\\site-packages (from spacy) (1.0.5)\n",
      "Requirement already satisfied: murmurhash<1.1.0,>=0.28.0 in c:\\users\\dell\\appdata\\local\\programs\\python\\python311\\lib\\site-packages (from spacy) (1.0.12)\n",
      "Requirement already satisfied: cymem<2.1.0,>=2.0.2 in c:\\users\\dell\\appdata\\local\\programs\\python\\python311\\lib\\site-packages (from spacy) (2.0.11)\n",
      "Requirement already satisfied: preshed<3.1.0,>=3.0.2 in c:\\users\\dell\\appdata\\local\\programs\\python\\python311\\lib\\site-packages (from spacy) (3.0.9)\n",
      "Requirement already satisfied: thinc<8.4.0,>=8.3.4 in c:\\users\\dell\\appdata\\local\\programs\\python\\python311\\lib\\site-packages (from spacy) (8.3.6)\n",
      "Requirement already satisfied: wasabi<1.2.0,>=0.9.1 in c:\\users\\dell\\appdata\\local\\programs\\python\\python311\\lib\\site-packages (from spacy) (1.1.3)\n",
      "Requirement already satisfied: srsly<3.0.0,>=2.4.3 in c:\\users\\dell\\appdata\\local\\programs\\python\\python311\\lib\\site-packages (from spacy) (2.5.1)\n",
      "Requirement already satisfied: catalogue<2.1.0,>=2.0.6 in c:\\users\\dell\\appdata\\local\\programs\\python\\python311\\lib\\site-packages (from spacy) (2.0.10)\n",
      "Requirement already satisfied: weasel<0.5.0,>=0.1.0 in c:\\users\\dell\\appdata\\local\\programs\\python\\python311\\lib\\site-packages (from spacy) (0.4.1)\n",
      "Requirement already satisfied: typer<1.0.0,>=0.3.0 in c:\\users\\dell\\appdata\\local\\programs\\python\\python311\\lib\\site-packages (from spacy) (0.15.2)\n",
      "Requirement already satisfied: tqdm<5.0.0,>=4.38.0 in c:\\users\\dell\\appdata\\local\\programs\\python\\python311\\lib\\site-packages (from spacy) (4.67.1)\n",
      "Requirement already satisfied: numpy>=1.19.0 in c:\\users\\dell\\appdata\\local\\programs\\python\\python311\\lib\\site-packages (from spacy) (2.2.5)\n",
      "Requirement already satisfied: requests<3.0.0,>=2.13.0 in c:\\users\\dell\\appdata\\local\\programs\\python\\python311\\lib\\site-packages (from spacy) (2.32.3)\n",
      "Requirement already satisfied: pydantic!=1.8,!=1.8.1,<3.0.0,>=1.7.4 in c:\\users\\dell\\appdata\\local\\programs\\python\\python311\\lib\\site-packages (from spacy) (2.11.3)\n",
      "Requirement already satisfied: jinja2 in c:\\users\\dell\\appdata\\local\\programs\\python\\python311\\lib\\site-packages (from spacy) (3.1.6)\n",
      "Requirement already satisfied: setuptools in c:\\users\\dell\\appdata\\local\\programs\\python\\python311\\lib\\site-packages (from spacy) (78.1.0)\n",
      "Requirement already satisfied: packaging>=20.0 in c:\\users\\dell\\appdata\\local\\programs\\python\\python311\\lib\\site-packages (from spacy) (24.2)\n",
      "Requirement already satisfied: langcodes<4.0.0,>=3.2.0 in c:\\users\\dell\\appdata\\local\\programs\\python\\python311\\lib\\site-packages (from spacy) (3.5.0)\n",
      "Requirement already satisfied: language-data>=1.2 in c:\\users\\dell\\appdata\\local\\programs\\python\\python311\\lib\\site-packages (from langcodes<4.0.0,>=3.2.0->spacy) (1.3.0)\n",
      "Requirement already satisfied: annotated-types>=0.6.0 in c:\\users\\dell\\appdata\\local\\programs\\python\\python311\\lib\\site-packages (from pydantic!=1.8,!=1.8.1,<3.0.0,>=1.7.4->spacy) (0.7.0)\n",
      "Requirement already satisfied: pydantic-core==2.33.1 in c:\\users\\dell\\appdata\\local\\programs\\python\\python311\\lib\\site-packages (from pydantic!=1.8,!=1.8.1,<3.0.0,>=1.7.4->spacy) (2.33.1)\n",
      "Requirement already satisfied: typing-extensions>=4.12.2 in c:\\users\\dell\\appdata\\local\\programs\\python\\python311\\lib\\site-packages (from pydantic!=1.8,!=1.8.1,<3.0.0,>=1.7.4->spacy) (4.13.0)\n",
      "Requirement already satisfied: typing-inspection>=0.4.0 in c:\\users\\dell\\appdata\\local\\programs\\python\\python311\\lib\\site-packages (from pydantic!=1.8,!=1.8.1,<3.0.0,>=1.7.4->spacy) (0.4.0)\n",
      "Requirement already satisfied: charset-normalizer<4,>=2 in c:\\users\\dell\\appdata\\local\\programs\\python\\python311\\lib\\site-packages (from requests<3.0.0,>=2.13.0->spacy) (3.4.1)\n",
      "Requirement already satisfied: idna<4,>=2.5 in c:\\users\\dell\\appdata\\local\\programs\\python\\python311\\lib\\site-packages (from requests<3.0.0,>=2.13.0->spacy) (3.10)\n",
      "Requirement already satisfied: urllib3<3,>=1.21.1 in c:\\users\\dell\\appdata\\local\\programs\\python\\python311\\lib\\site-packages (from requests<3.0.0,>=2.13.0->spacy) (2.3.0)\n",
      "Requirement already satisfied: certifi>=2017.4.17 in c:\\users\\dell\\appdata\\local\\programs\\python\\python311\\lib\\site-packages (from requests<3.0.0,>=2.13.0->spacy) (2025.1.31)\n",
      "Requirement already satisfied: blis<1.4.0,>=1.3.0 in c:\\users\\dell\\appdata\\local\\programs\\python\\python311\\lib\\site-packages (from thinc<8.4.0,>=8.3.4->spacy) (1.3.0)\n",
      "Requirement already satisfied: confection<1.0.0,>=0.0.1 in c:\\users\\dell\\appdata\\local\\programs\\python\\python311\\lib\\site-packages (from thinc<8.4.0,>=8.3.4->spacy) (0.1.5)\n",
      "Requirement already satisfied: colorama in c:\\users\\dell\\appdata\\roaming\\python\\python311\\site-packages (from tqdm<5.0.0,>=4.38.0->spacy) (0.4.6)\n",
      "Requirement already satisfied: click>=8.0.0 in c:\\users\\dell\\appdata\\local\\programs\\python\\python311\\lib\\site-packages (from typer<1.0.0,>=0.3.0->spacy) (8.1.8)\n",
      "Requirement already satisfied: shellingham>=1.3.0 in c:\\users\\dell\\appdata\\local\\programs\\python\\python311\\lib\\site-packages (from typer<1.0.0,>=0.3.0->spacy) (1.5.4)\n",
      "Requirement already satisfied: rich>=10.11.0 in c:\\users\\dell\\appdata\\local\\programs\\python\\python311\\lib\\site-packages (from typer<1.0.0,>=0.3.0->spacy) (13.9.4)\n",
      "Requirement already satisfied: cloudpathlib<1.0.0,>=0.7.0 in c:\\users\\dell\\appdata\\local\\programs\\python\\python311\\lib\\site-packages (from weasel<0.5.0,>=0.1.0->spacy) (0.21.0)\n",
      "Requirement already satisfied: smart-open<8.0.0,>=5.2.1 in c:\\users\\dell\\appdata\\local\\programs\\python\\python311\\lib\\site-packages (from weasel<0.5.0,>=0.1.0->spacy) (7.1.0)\n",
      "Requirement already satisfied: MarkupSafe>=2.0 in c:\\users\\dell\\appdata\\local\\programs\\python\\python311\\lib\\site-packages (from jinja2->spacy) (3.0.2)\n",
      "Requirement already satisfied: marisa-trie>=1.1.0 in c:\\users\\dell\\appdata\\local\\programs\\python\\python311\\lib\\site-packages (from language-data>=1.2->langcodes<4.0.0,>=3.2.0->spacy) (1.2.1)\n",
      "Requirement already satisfied: markdown-it-py>=2.2.0 in c:\\users\\dell\\appdata\\local\\programs\\python\\python311\\lib\\site-packages (from rich>=10.11.0->typer<1.0.0,>=0.3.0->spacy) (3.0.0)\n",
      "Requirement already satisfied: pygments<3.0.0,>=2.13.0 in c:\\users\\dell\\appdata\\local\\programs\\python\\python311\\lib\\site-packages (from rich>=10.11.0->typer<1.0.0,>=0.3.0->spacy) (2.19.1)\n",
      "Requirement already satisfied: wrapt in c:\\users\\dell\\appdata\\local\\programs\\python\\python311\\lib\\site-packages (from smart-open<8.0.0,>=5.2.1->weasel<0.5.0,>=0.1.0->spacy) (1.17.2)\n",
      "Requirement already satisfied: mdurl~=0.1 in c:\\users\\dell\\appdata\\local\\programs\\python\\python311\\lib\\site-packages (from markdown-it-py>=2.2.0->rich>=10.11.0->typer<1.0.0,>=0.3.0->spacy) (0.1.2)\n"
     ]
    }
   ],
   "source": [
    "!pip install -U spacy\n"
   ]
  },
  {
   "cell_type": "code",
   "execution_count": 57,
   "id": "d09a027d",
   "metadata": {},
   "outputs": [
    {
     "name": "stdout",
     "output_type": "stream",
     "text": [
      "<ipykernel.zmqshell.ZMQInteractiveShell object at 0x00000294E8BE5590>\n"
     ]
    }
   ],
   "source": [
    "from IPython import get_ipython\n",
    "print(get_ipython())"
   ]
  },
  {
   "cell_type": "code",
   "execution_count": 58,
   "id": "81ec1399",
   "metadata": {},
   "outputs": [
    {
     "ename": "ImportError",
     "evalue": "cannot import name 'display' from 'IPython.core.display' (C:\\Users\\Dell\\AppData\\Roaming\\Python\\Python311\\site-packages\\IPython\\core\\display.py)",
     "output_type": "error",
     "traceback": [
      "\u001b[31m---------------------------------------------------------------------------\u001b[39m",
      "\u001b[31mImportError\u001b[39m                               Traceback (most recent call last)",
      "\u001b[36mCell\u001b[39m\u001b[36m \u001b[39m\u001b[32mIn[58]\u001b[39m\u001b[32m, line 1\u001b[39m\n\u001b[32m----> \u001b[39m\u001b[32m1\u001b[39m \u001b[43mdisplacy\u001b[49m\u001b[43m.\u001b[49m\u001b[43mrender\u001b[49m\u001b[43m(\u001b[49m\u001b[43mdoc2\u001b[49m\u001b[43m,\u001b[49m\u001b[43m \u001b[49m\u001b[43mstyle\u001b[49m\u001b[43m=\u001b[49m\u001b[33;43m'\u001b[39;49m\u001b[33;43mdep\u001b[39;49m\u001b[33;43m'\u001b[39;49m\u001b[43m,\u001b[49m\u001b[43mjupyter\u001b[49m\u001b[43m=\u001b[49m\u001b[38;5;28;43;01mTrue\u001b[39;49;00m\u001b[43m)\u001b[49m\n",
      "\u001b[36mFile \u001b[39m\u001b[32mc:\\Users\\Dell\\AppData\\Local\\Programs\\Python\\Python311\\Lib\\site-packages\\spacy\\displacy\\__init__.py:69\u001b[39m, in \u001b[36mrender\u001b[39m\u001b[34m(docs, style, page, minify, jupyter, options, manual)\u001b[39m\n\u001b[32m     65\u001b[39m     html = RENDER_WRAPPER(html)\n\u001b[32m     66\u001b[39m \u001b[38;5;28;01mif\u001b[39;00m jupyter \u001b[38;5;129;01mor\u001b[39;00m (jupyter \u001b[38;5;129;01mis\u001b[39;00m \u001b[38;5;28;01mNone\u001b[39;00m \u001b[38;5;129;01mand\u001b[39;00m is_in_jupyter()):\n\u001b[32m     67\u001b[39m     \u001b[38;5;66;03m# return HTML rendered by IPython display()\u001b[39;00m\n\u001b[32m     68\u001b[39m     \u001b[38;5;66;03m# See #4840 for details on span wrapper to disable mathjax\u001b[39;00m\n\u001b[32m---> \u001b[39m\u001b[32m69\u001b[39m     \u001b[38;5;28;01mfrom\u001b[39;00m\u001b[38;5;250m \u001b[39m\u001b[34;01mIPython\u001b[39;00m\u001b[34;01m.\u001b[39;00m\u001b[34;01mcore\u001b[39;00m\u001b[34;01m.\u001b[39;00m\u001b[34;01mdisplay\u001b[39;00m\u001b[38;5;250m \u001b[39m\u001b[38;5;28;01mimport\u001b[39;00m HTML, display\n\u001b[32m     71\u001b[39m     \u001b[38;5;28;01mreturn\u001b[39;00m display(HTML(\u001b[33m'\u001b[39m\u001b[33m<span class=\u001b[39m\u001b[33m\"\u001b[39m\u001b[33mtex2jax_ignore\u001b[39m\u001b[33m\"\u001b[39m\u001b[33m>\u001b[39m\u001b[38;5;132;01m{}\u001b[39;00m\u001b[33m</span>\u001b[39m\u001b[33m'\u001b[39m.format(html)))\n\u001b[32m     72\u001b[39m \u001b[38;5;28;01mreturn\u001b[39;00m html\n",
      "\u001b[31mImportError\u001b[39m: cannot import name 'display' from 'IPython.core.display' (C:\\Users\\Dell\\AppData\\Roaming\\Python\\Python311\\site-packages\\IPython\\core\\display.py)"
     ]
    }
   ],
   "source": [
    "displacy.render(doc2, style='dep',jupyter=True)"
   ]
  },
  {
   "cell_type": "code",
   "execution_count": 59,
   "id": "f56182fb",
   "metadata": {},
   "outputs": [
    {
     "name": "stdout",
     "output_type": "stream",
     "text": [
      "<bound method WordNetLemmatizer.lemmatize of <WordNetLemmatizer>>\n"
     ]
    }
   ],
   "source": [
    "from nltk.stem import WordNetLemmatizer\n",
    "\n",
    "lematizer = WordNetLemmatizer()\n",
    "print(lematizer.lemmatize)"
   ]
  },
  {
   "cell_type": "code",
   "execution_count": 60,
   "id": "933bf066",
   "metadata": {},
   "outputs": [
    {
     "name": "stdout",
     "output_type": "stream",
     "text": [
      "Collecting pyttsx3\n",
      "  Downloading pyttsx3-2.98-py3-none-any.whl.metadata (3.8 kB)\n",
      "Collecting comtypes (from pyttsx3)\n",
      "  Downloading comtypes-1.4.10-py3-none-any.whl.metadata (7.2 kB)\n",
      "Collecting pypiwin32 (from pyttsx3)\n",
      "  Downloading pypiwin32-223-py3-none-any.whl.metadata (236 bytes)\n",
      "Requirement already satisfied: pywin32 in c:\\users\\dell\\appdata\\roaming\\python\\python311\\site-packages (from pyttsx3) (310)\n",
      "Downloading pyttsx3-2.98-py3-none-any.whl (34 kB)\n",
      "Downloading comtypes-1.4.10-py3-none-any.whl (241 kB)\n",
      "Downloading pypiwin32-223-py3-none-any.whl (1.7 kB)\n",
      "Installing collected packages: pypiwin32, comtypes, pyttsx3\n",
      "Successfully installed comtypes-1.4.10 pypiwin32-223 pyttsx3-2.98\n"
     ]
    }
   ],
   "source": [
    "!pip install pyttsx3"
   ]
  },
  {
   "cell_type": "code",
   "execution_count": 61,
   "id": "e5871748",
   "metadata": {},
   "outputs": [],
   "source": [
    "import pyttsx3"
   ]
  },
  {
   "cell_type": "code",
   "execution_count": 63,
   "id": "a0a4fe16",
   "metadata": {},
   "outputs": [],
   "source": [
    "engine = pyttsx3.init()\n",
    "engine.say(\"hello! How can i help you\")\n",
    "engine.runAndWait()"
   ]
  },
  {
   "cell_type": "code",
   "execution_count": 64,
   "id": "da24ecb4",
   "metadata": {},
   "outputs": [
    {
     "name": "stdout",
     "output_type": "stream",
     "text": [
      "Collecting SpeechRecognition\n",
      "  Downloading speechrecognition-3.14.2-py3-none-any.whl.metadata (30 kB)\n",
      "Requirement already satisfied: typing-extensions in c:\\users\\dell\\appdata\\local\\programs\\python\\python311\\lib\\site-packages (from SpeechRecognition) (4.13.0)\n",
      "Downloading speechrecognition-3.14.2-py3-none-any.whl (32.9 MB)\n",
      "   ---------------------------------------- 0.0/32.9 MB ? eta -:--:--\n",
      "   - -------------------------------------- 1.0/32.9 MB 5.0 MB/s eta 0:00:07\n",
      "   - -------------------------------------- 1.6/32.9 MB 4.2 MB/s eta 0:00:08\n",
      "   -- ------------------------------------- 2.1/32.9 MB 3.6 MB/s eta 0:00:09\n",
      "   --- ------------------------------------ 2.6/32.9 MB 3.1 MB/s eta 0:00:10\n",
      "   --- ------------------------------------ 2.9/32.9 MB 2.7 MB/s eta 0:00:12\n",
      "   --- ------------------------------------ 3.1/32.9 MB 2.4 MB/s eta 0:00:13\n",
      "   --- ------------------------------------ 3.1/32.9 MB 2.4 MB/s eta 0:00:13\n",
      "   ---- ----------------------------------- 3.4/32.9 MB 2.1 MB/s eta 0:00:14\n",
      "   ---- ----------------------------------- 3.7/32.9 MB 1.8 MB/s eta 0:00:16\n",
      "   ---- ----------------------------------- 3.7/32.9 MB 1.8 MB/s eta 0:00:16\n",
      "   ---- ----------------------------------- 3.9/32.9 MB 1.7 MB/s eta 0:00:17\n",
      "   ----- ---------------------------------- 4.2/32.9 MB 1.6 MB/s eta 0:00:18\n",
      "   ----- ---------------------------------- 4.2/32.9 MB 1.6 MB/s eta 0:00:18\n",
      "   ----- ---------------------------------- 4.5/32.9 MB 1.5 MB/s eta 0:00:19\n",
      "   ----- ---------------------------------- 4.7/32.9 MB 1.4 MB/s eta 0:00:20\n",
      "   ------ --------------------------------- 5.0/32.9 MB 1.4 MB/s eta 0:00:20\n",
      "   ------ --------------------------------- 5.2/32.9 MB 1.4 MB/s eta 0:00:20\n",
      "   ------ --------------------------------- 5.5/32.9 MB 1.4 MB/s eta 0:00:20\n",
      "   ------ --------------------------------- 5.5/32.9 MB 1.4 MB/s eta 0:00:20\n",
      "   ------- -------------------------------- 5.8/32.9 MB 1.4 MB/s eta 0:00:20\n",
      "   ------- -------------------------------- 6.0/32.9 MB 1.3 MB/s eta 0:00:21\n",
      "   ------- -------------------------------- 6.0/32.9 MB 1.3 MB/s eta 0:00:21\n",
      "   ------- -------------------------------- 6.3/32.9 MB 1.2 MB/s eta 0:00:22\n",
      "   ------- -------------------------------- 6.3/32.9 MB 1.2 MB/s eta 0:00:22\n",
      "   ------- -------------------------------- 6.3/32.9 MB 1.2 MB/s eta 0:00:22\n",
      "   ------- -------------------------------- 6.6/32.9 MB 1.1 MB/s eta 0:00:24\n",
      "   ------- -------------------------------- 6.6/32.9 MB 1.1 MB/s eta 0:00:24\n",
      "   ------- -------------------------------- 6.6/32.9 MB 1.1 MB/s eta 0:00:24\n",
      "   -------- ------------------------------- 6.8/32.9 MB 1.1 MB/s eta 0:00:25\n",
      "   -------- ------------------------------- 7.1/32.9 MB 1.1 MB/s eta 0:00:25\n",
      "   -------- ------------------------------- 7.3/32.9 MB 1.1 MB/s eta 0:00:24\n",
      "   --------- ------------------------------ 7.6/32.9 MB 1.1 MB/s eta 0:00:24\n",
      "   --------- ------------------------------ 7.9/32.9 MB 1.1 MB/s eta 0:00:24\n",
      "   --------- ------------------------------ 8.1/32.9 MB 1.1 MB/s eta 0:00:23\n",
      "   ---------- ----------------------------- 8.4/32.9 MB 1.1 MB/s eta 0:00:23\n",
      "   ---------- ----------------------------- 8.7/32.9 MB 1.1 MB/s eta 0:00:22\n",
      "   ---------- ----------------------------- 8.9/32.9 MB 1.1 MB/s eta 0:00:22\n",
      "   ----------- ---------------------------- 9.2/32.9 MB 1.1 MB/s eta 0:00:22\n",
      "   ----------- ---------------------------- 9.2/32.9 MB 1.1 MB/s eta 0:00:22\n",
      "   ----------- ---------------------------- 9.4/32.9 MB 1.1 MB/s eta 0:00:22\n",
      "   ----------- ---------------------------- 9.7/32.9 MB 1.1 MB/s eta 0:00:22\n",
      "   ----------- ---------------------------- 9.7/32.9 MB 1.1 MB/s eta 0:00:22\n",
      "   ------------ --------------------------- 10.0/32.9 MB 1.1 MB/s eta 0:00:22\n",
      "   ------------ --------------------------- 10.0/32.9 MB 1.1 MB/s eta 0:00:22\n",
      "   ------------ --------------------------- 10.2/32.9 MB 1.0 MB/s eta 0:00:22\n",
      "   ------------ --------------------------- 10.5/32.9 MB 1.0 MB/s eta 0:00:22\n",
      "   ------------ --------------------------- 10.5/32.9 MB 1.0 MB/s eta 0:00:22\n",
      "   ------------- -------------------------- 10.7/32.9 MB 1.0 MB/s eta 0:00:22\n",
      "   ------------- -------------------------- 11.0/32.9 MB 1.0 MB/s eta 0:00:22\n",
      "   ------------- -------------------------- 11.0/32.9 MB 1.0 MB/s eta 0:00:22\n",
      "   ------------- -------------------------- 11.3/32.9 MB 1.0 MB/s eta 0:00:22\n",
      "   -------------- ------------------------- 11.5/32.9 MB 1.0 MB/s eta 0:00:21\n",
      "   -------------- ------------------------- 12.1/32.9 MB 1.0 MB/s eta 0:00:20\n",
      "   --------------- ------------------------ 12.3/32.9 MB 1.0 MB/s eta 0:00:20\n",
      "   --------------- ------------------------ 12.6/32.9 MB 1.1 MB/s eta 0:00:20\n",
      "   --------------- ------------------------ 13.1/32.9 MB 1.1 MB/s eta 0:00:19\n",
      "   ---------------- ----------------------- 13.6/32.9 MB 1.1 MB/s eta 0:00:18\n",
      "   ---------------- ----------------------- 13.9/32.9 MB 1.1 MB/s eta 0:00:18\n",
      "   ----------------- ---------------------- 14.2/32.9 MB 1.1 MB/s eta 0:00:17\n",
      "   ----------------- ---------------------- 14.4/32.9 MB 1.1 MB/s eta 0:00:17\n",
      "   ----------------- ---------------------- 14.7/32.9 MB 1.1 MB/s eta 0:00:17\n",
      "   ------------------ --------------------- 15.2/32.9 MB 1.1 MB/s eta 0:00:16\n",
      "   ------------------ --------------------- 15.5/32.9 MB 1.1 MB/s eta 0:00:16\n",
      "   ------------------- -------------------- 15.7/32.9 MB 1.1 MB/s eta 0:00:16\n",
      "   ------------------- -------------------- 15.7/32.9 MB 1.1 MB/s eta 0:00:16\n",
      "   ------------------- -------------------- 16.0/32.9 MB 1.1 MB/s eta 0:00:16\n",
      "   ------------------- -------------------- 16.0/32.9 MB 1.1 MB/s eta 0:00:16\n",
      "   ------------------- -------------------- 16.3/32.9 MB 1.1 MB/s eta 0:00:16\n",
      "   -------------------- ------------------- 16.5/32.9 MB 1.1 MB/s eta 0:00:15\n",
      "   -------------------- ------------------- 16.8/32.9 MB 1.1 MB/s eta 0:00:15\n",
      "   -------------------- ------------------- 17.0/32.9 MB 1.1 MB/s eta 0:00:15\n",
      "   --------------------- ------------------ 17.3/32.9 MB 1.1 MB/s eta 0:00:15\n",
      "   --------------------- ------------------ 17.3/32.9 MB 1.1 MB/s eta 0:00:15\n",
      "   --------------------- ------------------ 17.6/32.9 MB 1.1 MB/s eta 0:00:14\n",
      "   --------------------- ------------------ 17.6/32.9 MB 1.1 MB/s eta 0:00:14\n",
      "   --------------------- ------------------ 17.8/32.9 MB 1.1 MB/s eta 0:00:14\n",
      "   ---------------------- ----------------- 18.1/32.9 MB 1.1 MB/s eta 0:00:14\n",
      "   ---------------------- ----------------- 18.1/32.9 MB 1.1 MB/s eta 0:00:14\n",
      "   ---------------------- ----------------- 18.4/32.9 MB 1.1 MB/s eta 0:00:14\n",
      "   ---------------------- ----------------- 18.6/32.9 MB 1.1 MB/s eta 0:00:14\n",
      "   ---------------------- ----------------- 18.9/32.9 MB 1.1 MB/s eta 0:00:13\n",
      "   ----------------------- ---------------- 19.1/32.9 MB 1.1 MB/s eta 0:00:13\n",
      "   ----------------------- ---------------- 19.4/32.9 MB 1.1 MB/s eta 0:00:13\n",
      "   ----------------------- ---------------- 19.7/32.9 MB 1.1 MB/s eta 0:00:13\n",
      "   ------------------------ --------------- 19.9/32.9 MB 1.1 MB/s eta 0:00:12\n",
      "   ------------------------ --------------- 20.2/32.9 MB 1.1 MB/s eta 0:00:12\n",
      "   ------------------------ --------------- 20.4/32.9 MB 1.1 MB/s eta 0:00:12\n",
      "   ------------------------- -------------- 20.7/32.9 MB 1.1 MB/s eta 0:00:12\n",
      "   ------------------------- -------------- 20.7/32.9 MB 1.1 MB/s eta 0:00:12\n",
      "   ------------------------- -------------- 21.0/32.9 MB 1.1 MB/s eta 0:00:11\n",
      "   ------------------------- -------------- 21.0/32.9 MB 1.1 MB/s eta 0:00:11\n",
      "   ------------------------- -------------- 21.2/32.9 MB 1.1 MB/s eta 0:00:11\n",
      "   ------------------------- -------------- 21.2/32.9 MB 1.1 MB/s eta 0:00:11\n",
      "   -------------------------- ------------- 21.5/32.9 MB 1.1 MB/s eta 0:00:11\n",
      "   -------------------------- ------------- 21.8/32.9 MB 1.1 MB/s eta 0:00:11\n",
      "   -------------------------- ------------- 22.0/32.9 MB 1.1 MB/s eta 0:00:11\n",
      "   -------------------------- ------------- 22.0/32.9 MB 1.1 MB/s eta 0:00:11\n",
      "   --------------------------- ------------ 22.5/32.9 MB 1.1 MB/s eta 0:00:10\n",
      "   --------------------------- ------------ 22.8/32.9 MB 1.1 MB/s eta 0:00:10\n",
      "   --------------------------- ------------ 22.8/32.9 MB 1.1 MB/s eta 0:00:10\n",
      "   ---------------------------- ----------- 23.3/32.9 MB 1.1 MB/s eta 0:00:09\n",
      "   ---------------------------- ----------- 23.6/32.9 MB 1.1 MB/s eta 0:00:09\n",
      "   ----------------------------- ---------- 23.9/32.9 MB 1.1 MB/s eta 0:00:09\n",
      "   ----------------------------- ---------- 24.1/32.9 MB 1.1 MB/s eta 0:00:09\n",
      "   ----------------------------- ---------- 24.4/32.9 MB 1.1 MB/s eta 0:00:08\n",
      "   ----------------------------- ---------- 24.4/32.9 MB 1.1 MB/s eta 0:00:08\n",
      "   ------------------------------ --------- 24.6/32.9 MB 1.1 MB/s eta 0:00:08\n",
      "   ------------------------------ --------- 24.9/32.9 MB 1.1 MB/s eta 0:00:08\n",
      "   ------------------------------ --------- 25.2/32.9 MB 1.1 MB/s eta 0:00:08\n",
      "   ------------------------------ --------- 25.4/32.9 MB 1.1 MB/s eta 0:00:07\n",
      "   ------------------------------- -------- 25.7/32.9 MB 1.1 MB/s eta 0:00:07\n",
      "   ------------------------------- -------- 26.0/32.9 MB 1.1 MB/s eta 0:00:07\n",
      "   ------------------------------- -------- 26.0/32.9 MB 1.1 MB/s eta 0:00:07\n",
      "   ------------------------------- -------- 26.2/32.9 MB 1.1 MB/s eta 0:00:07\n",
      "   -------------------------------- ------- 26.5/32.9 MB 1.1 MB/s eta 0:00:06\n",
      "   -------------------------------- ------- 26.5/32.9 MB 1.1 MB/s eta 0:00:06\n",
      "   -------------------------------- ------- 26.7/32.9 MB 1.1 MB/s eta 0:00:06\n",
      "   -------------------------------- ------- 27.0/32.9 MB 1.1 MB/s eta 0:00:06\n",
      "   --------------------------------- ------ 27.3/32.9 MB 1.1 MB/s eta 0:00:06\n",
      "   --------------------------------- ------ 27.3/32.9 MB 1.1 MB/s eta 0:00:06\n",
      "   --------------------------------- ------ 27.5/32.9 MB 1.1 MB/s eta 0:00:06\n",
      "   --------------------------------- ------ 27.8/32.9 MB 1.1 MB/s eta 0:00:05\n",
      "   ---------------------------------- ----- 28.0/32.9 MB 1.1 MB/s eta 0:00:05\n",
      "   ---------------------------------- ----- 28.3/32.9 MB 1.1 MB/s eta 0:00:05\n",
      "   ---------------------------------- ----- 28.6/32.9 MB 1.1 MB/s eta 0:00:05\n",
      "   ----------------------------------- ---- 28.8/32.9 MB 1.1 MB/s eta 0:00:04\n",
      "   ----------------------------------- ---- 28.8/32.9 MB 1.1 MB/s eta 0:00:04\n",
      "   ----------------------------------- ---- 29.1/32.9 MB 1.1 MB/s eta 0:00:04\n",
      "   ----------------------------------- ---- 29.4/32.9 MB 1.1 MB/s eta 0:00:04\n",
      "   ------------------------------------ --- 29.6/32.9 MB 1.0 MB/s eta 0:00:04\n",
      "   ------------------------------------ --- 29.6/32.9 MB 1.0 MB/s eta 0:00:04\n",
      "   ------------------------------------ --- 29.9/32.9 MB 1.0 MB/s eta 0:00:03\n",
      "   ------------------------------------ --- 30.1/32.9 MB 1.0 MB/s eta 0:00:03\n",
      "   ------------------------------------ --- 30.1/32.9 MB 1.0 MB/s eta 0:00:03\n",
      "   ------------------------------------- -- 30.4/32.9 MB 1.0 MB/s eta 0:00:03\n",
      "   ------------------------------------- -- 30.7/32.9 MB 1.0 MB/s eta 0:00:03\n",
      "   ------------------------------------- -- 30.9/32.9 MB 1.0 MB/s eta 0:00:02\n",
      "   ------------------------------------- -- 31.2/32.9 MB 1.0 MB/s eta 0:00:02\n",
      "   -------------------------------------- - 31.5/32.9 MB 1.0 MB/s eta 0:00:02\n",
      "   -------------------------------------- - 31.5/32.9 MB 1.0 MB/s eta 0:00:02\n",
      "   -------------------------------------- - 31.7/32.9 MB 1.0 MB/s eta 0:00:02\n",
      "   -------------------------------------- - 32.0/32.9 MB 997.2 kB/s eta 0:00:01\n",
      "   -------------------------------------- - 32.0/32.9 MB 997.2 kB/s eta 0:00:01\n",
      "   ---------------------------------------  32.2/32.9 MB 984.8 kB/s eta 0:00:01\n",
      "   ---------------------------------------  32.8/32.9 MB 988.5 kB/s eta 0:00:01\n",
      "   ---------------------------------------  32.8/32.9 MB 988.5 kB/s eta 0:00:01\n",
      "   ---------------------------------------- 32.9/32.9 MB 983.1 kB/s eta 0:00:00\n",
      "Installing collected packages: SpeechRecognition\n",
      "Successfully installed SpeechRecognition-3.14.2\n"
     ]
    }
   ],
   "source": [
    "!pip install SpeechRecognition"
   ]
  },
  {
   "cell_type": "code",
   "execution_count": 72,
   "id": "cc33d981",
   "metadata": {},
   "outputs": [
    {
     "name": "stdout",
     "output_type": "stream",
     "text": [
      "Requirement already satisfied: pyaudio in c:\\users\\dell\\appdata\\local\\programs\\python\\python311\\lib\\site-packages (0.2.14)\n"
     ]
    }
   ],
   "source": [
    "!pip install pyaudio"
   ]
  },
  {
   "cell_type": "code",
   "execution_count": 76,
   "id": "c37e6ace",
   "metadata": {},
   "outputs": [
    {
     "name": "stdout",
     "output_type": "stream",
     "text": [
      " Say Something: ...\n",
      "you said: hello my name is\n"
     ]
    }
   ],
   "source": [
    "import speech_recognition as sr\n",
    "\n",
    "recognizer = sr.Recognizer()\n",
    "with sr.Microphone() as source:\n",
    " print(\" Say Something: ...\")\n",
    " audio = recognizer.listen(source)\n",
    "\n",
    "try:\n",
    "  text =  recognizer.recognize_google(audio)\n",
    "  print(\"you said:\" ,text)\n",
    "except sr.UnknownValueError:\n",
    "  print(\"Could not understand audio\")\n",
    "except sr.RequestError as e:\n",
    "  print(\" Api Request Error\")\n",
    "  "
   ]
  },
  {
   "cell_type": "code",
   "execution_count": 68,
   "id": "8d602068",
   "metadata": {},
   "outputs": [
    {
     "name": "stdout",
     "output_type": "stream",
     "text": [
      "Collecting gtts\n",
      "  Downloading gTTS-2.5.4-py3-none-any.whl.metadata (4.1 kB)\n",
      "Requirement already satisfied: requests<3,>=2.27 in c:\\users\\dell\\appdata\\local\\programs\\python\\python311\\lib\\site-packages (from gtts) (2.32.3)\n",
      "Requirement already satisfied: click<8.2,>=7.1 in c:\\users\\dell\\appdata\\local\\programs\\python\\python311\\lib\\site-packages (from gtts) (8.1.8)\n",
      "Requirement already satisfied: colorama in c:\\users\\dell\\appdata\\roaming\\python\\python311\\site-packages (from click<8.2,>=7.1->gtts) (0.4.6)\n",
      "Requirement already satisfied: charset-normalizer<4,>=2 in c:\\users\\dell\\appdata\\local\\programs\\python\\python311\\lib\\site-packages (from requests<3,>=2.27->gtts) (3.4.1)\n",
      "Requirement already satisfied: idna<4,>=2.5 in c:\\users\\dell\\appdata\\local\\programs\\python\\python311\\lib\\site-packages (from requests<3,>=2.27->gtts) (3.10)\n",
      "Requirement already satisfied: urllib3<3,>=1.21.1 in c:\\users\\dell\\appdata\\local\\programs\\python\\python311\\lib\\site-packages (from requests<3,>=2.27->gtts) (2.3.0)\n",
      "Requirement already satisfied: certifi>=2017.4.17 in c:\\users\\dell\\appdata\\local\\programs\\python\\python311\\lib\\site-packages (from requests<3,>=2.27->gtts) (2025.1.31)\n",
      "Downloading gTTS-2.5.4-py3-none-any.whl (29 kB)\n",
      "Installing collected packages: gtts\n",
      "Successfully installed gtts-2.5.4\n"
     ]
    }
   ],
   "source": [
    "!pip install gtts"
   ]
  },
  {
   "cell_type": "code",
   "execution_count": 70,
   "id": "c46a5ed1",
   "metadata": {},
   "outputs": [
    {
     "data": {
      "text/plain": [
       "0"
      ]
     },
     "execution_count": 70,
     "metadata": {},
     "output_type": "execute_result"
    }
   ],
   "source": [
    "from gtts import gTTS\n",
    "\n",
    "\n",
    "import os\n",
    "\n",
    "text = \" Hello , Welcome to Upflairs\"\n",
    "tts = gTTS(text = text, lang = 'en')\n",
    "tts.save(\"output.mp3\")\n",
    "os.system(\" start output.mp3\")"
   ]
  },
  {
   "cell_type": "code",
   "execution_count": null,
   "id": "1b8d0f68",
   "metadata": {},
   "outputs": [],
   "source": []
  }
 ],
 "metadata": {
  "kernelspec": {
   "display_name": "Python 3",
   "language": "python",
   "name": "python3"
  },
  "language_info": {
   "codemirror_mode": {
    "name": "ipython",
    "version": 3
   },
   "file_extension": ".py",
   "mimetype": "text/x-python",
   "name": "python",
   "nbconvert_exporter": "python",
   "pygments_lexer": "ipython3",
   "version": "3.11.5"
  }
 },
 "nbformat": 4,
 "nbformat_minor": 5
}
