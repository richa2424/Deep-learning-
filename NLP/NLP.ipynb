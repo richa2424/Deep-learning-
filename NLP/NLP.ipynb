{
 "cells": [
  {
   "cell_type": "code",
   "execution_count": null,
   "id": "97b31a6d",
   "metadata": {},
   "outputs": [],
   "source": [
    "# NLP\n",
    "# Natural Language Processing\n",
    "# Subfield of AI\n",
    "\n",
    "# Applications of NLP:\n",
    "# 1.chat bot\n",
    "# 2. Social Media\n",
    "\n",
    "# COmmon NLP task:\n",
    "# text doc clssification\n",
    "# parts of speech\n",
    "# Text summarize\n",
    "# parsing\n",
    "# Grammatical problems"
   ]
  },
  {
   "cell_type": "code",
   "execution_count": null,
   "id": "bcbbdfcb",
   "metadata": {},
   "outputs": [],
   "source": [
    "# Lower casing\n",
    "# application  = \"I am learning deep learning\" = \"i am learning deep learning\"\n",
    "\n",
    "name = \"AARYA\"\n",
    "name.lower()"
   ]
  },
  {
   "cell_type": "code",
   "execution_count": null,
   "id": "89cfed4c",
   "metadata": {},
   "outputs": [],
   "source": [
    "# Remove HTML Tag\n",
    "# remove url\n",
    "# chatbot treatment\n",
    "# spelling correction\n",
    "# remove stop words\n",
    "# handling emojis\n",
    "# tokenization\n",
    "# lemmenization"
   ]
  },
  {
   "cell_type": "code",
   "execution_count": null,
   "id": "fc3741c6",
   "metadata": {},
   "outputs": [],
   "source": [
    "# ** Case Folding **\n",
    "\n",
    "text = \"Hello, Welcome to my Youtube channel\"\n",
    "text=text.casefold()\n",
    "text"
   ]
  },
  {
   "cell_type": "code",
   "execution_count": null,
   "id": "01d48ccb",
   "metadata": {},
   "outputs": [],
   "source": [
    "text.lower()"
   ]
  },
  {
   "cell_type": "code",
   "execution_count": null,
   "id": "c93e0565",
   "metadata": {},
   "outputs": [],
   "source": [
    "# SCR - Structured Common Representation\n",
    "# import regex module for this\n",
    "import re\n",
    "\n",
    "input = \"hello@ my name is #richa\"\n",
    "\n",
    "output = re.sub('[^a-zA-Z]', ' ', input)\n",
    "output"
   ]
  },
  {
   "cell_type": "code",
   "execution_count": null,
   "id": "be769475",
   "metadata": {},
   "outputs": [],
   "source": [
    "\n",
    "input = \"hello@ my name123 is ###richa\"\n",
    "\n",
    "output = re.sub('[^a-zA-Z0-9\\s]', ' ', input)\n",
    "output"
   ]
  },
  {
   "cell_type": "code",
   "execution_count": null,
   "id": "c3ea5f15",
   "metadata": {},
   "outputs": [],
   "source": [
    "import nltk\n",
    "nltk.download('punkt')\n",
    "\n",
    "# nltk is a library used for nlp\n",
    "# eg:\n",
    "# I'm = i am\n"
   ]
  },
  {
   "cell_type": "code",
   "execution_count": 13,
   "id": "59ce21ba",
   "metadata": {},
   "outputs": [
    {
     "data": {
      "text/plain": [
       "'Ravi is a  good boy'"
      ]
     },
     "execution_count": 13,
     "metadata": {},
     "output_type": "execute_result"
    }
   ],
   "source": [
    "# Remove html tags\n",
    "input = \"Ravi is a <b> good</b> boy\"\n",
    "def remove_html_tags(input):\n",
    "    clean_text = re.sub(r'<.*?>', '', input)\n",
    "    return clean_text\n",
    "remove_html_tags(input=input)"
   ]
  },
  {
   "cell_type": "code",
   "execution_count": 15,
   "id": "5026486e",
   "metadata": {},
   "outputs": [],
   "source": [
    "# Remove URL / hyperlink from text\n",
    "\n",
    "sentence = \"Ram is <br>/<brShayam <!--  https://www.youtube.com/watch?v=6C0sLtw5ctc&list=PLKnIA16_RmvZo7fp5kkIth6nRTeQQsjfX&index=4&ab_channel=CampusX Remove HTMl Tags -->\""
   ]
  },
  {
   "cell_type": "code",
   "execution_count": 16,
   "id": "ac62d37f",
   "metadata": {},
   "outputs": [],
   "source": [
    "import re\n",
    "def remove_url(sentence):\n",
    "    output =re.sub(r'https?://\\S+|www\\.\\S+','',sentence)\n",
    "    return output"
   ]
  },
  {
   "cell_type": "code",
   "execution_count": 17,
   "id": "5ad8c66d",
   "metadata": {},
   "outputs": [
    {
     "data": {
      "text/plain": [
       "'Ram is <br>/<brShayam <!--   Remove HTMl Tags -->'"
      ]
     },
     "execution_count": 17,
     "metadata": {},
     "output_type": "execute_result"
    }
   ],
   "source": [
    "remove_url(sentence=sentence)"
   ]
  },
  {
   "cell_type": "code",
   "execution_count": 18,
   "id": "d6615594",
   "metadata": {},
   "outputs": [
    {
     "data": {
      "text/plain": [
       "'Ram is brbrShayam   httpswwwyoutubecomwatchv6C0sLtw5ctclistPLKnIA16RmvZo7fp5kkIth6nRTeQQsjfXindex4abchannelCampusX Remove HTMl Tags '"
      ]
     },
     "execution_count": 18,
     "metadata": {},
     "output_type": "execute_result"
    }
   ],
   "source": [
    "# Remove punctuation\n",
    "\n",
    "import string\n",
    "punctu=string.punctuation\n",
    "def removepunctuation(text):\n",
    "    for x in punctu:\n",
    "        text=text.replace(x,'')\n",
    "    return text\n",
    "removepunctuation(sentence)"
   ]
  },
  {
   "cell_type": "code",
   "execution_count": 19,
   "id": "bcf1a27c",
   "metadata": {},
   "outputs": [],
   "source": [
    "# CHat Word Treatment\n",
    "\n",
    "chat_word_dict = {\n",
    "    \"u\": \"you\",\n",
    "    \"r\": \"are\",\n",
    "    \"b4\": \"before\",\n",
    "    \"gr8\": \"great\",\n",
    "    \"l8r\": \"later\",\n",
    "    \"idk\": \"I don’t know\",\n",
    "    \"btw\": \"by the way\",\n",
    "    \"imo\": \"in my opinion\",\n",
    "    \"ttyl\": \"talk to you later\",\n",
    "    \"brb\": \"be right back\",\n",
    "    \"wanna\": \"want to\",\n",
    "    \"gonna\": \"going to\",\n",
    "    \"lemme\": \"let me\",\n",
    "    \"dunno\": \"don’t know\",\n",
    "    \"thx\": \"thanks\",\n",
    "    \"pls\": \"please\",\n",
    "    \"ppl\": \"people\",\n",
    "    \"smh\": \"shaking my head\",\n",
    "    \"tbh\": \"to be honest\",\n",
    "    \"omg\": \"oh my god\",\n",
    "    \"lol\": \"laugh out loud\",\n",
    "    \"rofl\": \"rolling on the floor laughing\",\n",
    "    \"afk\": \"away from keyboard\",\n",
    "    \"np\": \"no problem\",\n",
    "    \"gtg\": \"got to go\",\n",
    "    \"jk\": \"just kidding\",\n",
    "    \"hbu\": \"how about you\",\n",
    "    \"ily\": \"I love you\",\n",
    "    \"ttys\": \"talk to you soon\"}"
   ]
  },
  {
   "cell_type": "code",
   "execution_count": 20,
   "id": "83d1e5d7",
   "metadata": {},
   "outputs": [],
   "source": [
    "def normalize_chat_word(input):\n",
    "    words = input.split()\n",
    "    normalize_words = [chat_word_dict.get(word.lower(), word) for word in words]\n",
    "    return \" \".join(normalize_words)"
   ]
  },
  {
   "cell_type": "code",
   "execution_count": 21,
   "id": "712a12cf",
   "metadata": {},
   "outputs": [
    {
     "data": {
      "text/plain": [
       "'oh my god I don’t know what you are talking about laugh out loud'"
      ]
     },
     "execution_count": 21,
     "metadata": {},
     "output_type": "execute_result"
    }
   ],
   "source": [
    "chat_text = \"omg idk what u r talking about lol\"\n",
    "normalize_chat_word(input= chat_text)\n"
   ]
  },
  {
   "cell_type": "code",
   "execution_count": 22,
   "id": "5d0c0bec",
   "metadata": {},
   "outputs": [
    {
     "data": {
      "text/plain": [
       "'oh my god I don’t know what you are tlking abut laugh out loud'"
      ]
     },
     "execution_count": 22,
     "metadata": {},
     "output_type": "execute_result"
    }
   ],
   "source": [
    "chat_text = \"omg idk what u r tlking abut lol\"\n",
    "normalize_text = normalize_chat_word(input=chat_text)\n",
    "normalize_text"
   ]
  },
  {
   "cell_type": "code",
   "execution_count": 24,
   "id": "68fcd17d",
   "metadata": {},
   "outputs": [
    {
     "data": {
      "text/plain": [
       "['omg', 'idk', 'what', 'u', 'r', 'tlking', 'abut', 'lol']"
      ]
     },
     "execution_count": 24,
     "metadata": {},
     "output_type": "execute_result"
    }
   ],
   "source": [
    "word=chat_text.split()\n",
    "word"
   ]
  },
  {
   "cell_type": "code",
   "execution_count": 25,
   "id": "515d27a4",
   "metadata": {},
   "outputs": [
    {
     "name": "stdout",
     "output_type": "stream",
     "text": [
      "Original: omg idk wht u r tlking abut lol\n",
      "Normalized: oh my god I don’t know wht you are tlking abut laugh out loud\n",
      "Corrected: oh my god I don’t know who you are taking but laugh out loud\n"
     ]
    }
   ],
   "source": [
    "# Spelling Correction\n",
    "\n",
    "from textblob import TextBlob\n",
    "def normalize_chat_words(text):\n",
    "    words = text.split()\n",
    "    normalized_words = [chat_word_dict.get(word.lower(), word) for word in words]\n",
    "    return \" \".join(normalized_words)\n",
    "\n",
    "def correct_spelling(text):\n",
    "    return str(TextBlob(text).correct())\n",
    "\n",
    "# Example usage\n",
    "chat_text = \"omg idk wht u r tlking abut lol\"\n",
    "normalized_text = normalize_chat_words(chat_text)\n",
    "corrected_text = correct_spelling(normalized_text)\n",
    "\n",
    "print(\"Original:\", chat_text)\n",
    "print(\"Normalized:\", normalized_text)\n",
    "print(\"Corrected:\", corrected_text)"
   ]
  },
  {
   "cell_type": "code",
   "execution_count": null,
   "id": "57b12675",
   "metadata": {},
   "outputs": [],
   "source": [
    "import emoji"
   ]
  },
  {
   "cell_type": "code",
   "execution_count": null,
   "id": "427d8df8",
   "metadata": {},
   "outputs": [],
   "source": [
    "def remove_emojis(input):\n",
    "    output = emoji.replace_emoji(input, replace=\"\")\n",
    "    return output"
   ]
  },
  {
   "cell_type": "code",
   "execution_count": null,
   "id": "ac0088ca",
   "metadata": {},
   "outputs": [],
   "source": [
    "input = \" hello my name is richa 😉🤞✌😁😊🤣\"\n",
    "remove_emojis(input=input)\n"
   ]
  },
  {
   "cell_type": "code",
   "execution_count": null,
   "id": "1d5fb116",
   "metadata": {},
   "outputs": [],
   "source": []
  }
 ],
 "metadata": {
  "kernelspec": {
   "display_name": "Python 3",
   "language": "python",
   "name": "python3"
  },
  "language_info": {
   "codemirror_mode": {
    "name": "ipython",
    "version": 3
   },
   "file_extension": ".py",
   "mimetype": "text/x-python",
   "name": "python",
   "nbconvert_exporter": "python",
   "pygments_lexer": "ipython3",
   "version": "3.11.5"
  }
 },
 "nbformat": 4,
 "nbformat_minor": 5
}
